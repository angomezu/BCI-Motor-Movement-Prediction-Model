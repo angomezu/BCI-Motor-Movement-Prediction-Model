{
 "cells": [
  {
   "cell_type": "markdown",
   "metadata": {},
   "source": [
    " ### Supervised Learning Model for Motor Movement Prediction using Brain-Computer Interfaces"
   ]
  },
  {
   "cell_type": "markdown",
   "metadata": {},
   "source": [
    "#### Load and Explore the EDF File"
   ]
  },
  {
   "cell_type": "code",
   "execution_count": 65,
   "metadata": {},
   "outputs": [],
   "source": [
    "import os\n",
    "import mne\n",
    "import numpy as np\n",
    "import pandas as pd\n",
    "import matplotlib.pyplot as plt\n",
    "from scipy.signal import butter, lfilter\n",
    "\n",
    "# List of files to process\n",
    "edf_files = [\"S001R01.edf\",\"S001R02.edf\", \"S001R03.edf\", \"S001R04.edf\",\"S001R05.edf\",\"S001R06.edf\",\"S001R07.edf\",\"S001R08.edf\",\"S001R09.edf\",\"S001R10.edf\",\"S001R11.edf\",\"S001R12.edf\",\"S001R13.edf\",\"S001R14.edf\"]"
   ]
  },
  {
   "cell_type": "markdown",
   "metadata": {},
   "source": [
    "#### Defining Bandpass Filter for EEG Preprocessing"
   ]
  },
  {
   "cell_type": "code",
   "execution_count": 66,
   "metadata": {},
   "outputs": [],
   "source": [
    "# Define bandpass filter function\n",
    "def butter_bandpass_filter(data, lowcut, highcut, fs, order=5):\n",
    "    nyquist = 0.5 * fs\n",
    "    low = lowcut / nyquist\n",
    "    high = highcut / nyquist\n",
    "    b, a = butter(order, [low, high], btype='band')\n",
    "    return lfilter(b, a, data, axis=1)"
   ]
  },
  {
   "cell_type": "markdown",
   "metadata": {},
   "source": [
    "#### Initializing Storage for Merging Data"
   ]
  },
  {
   "cell_type": "code",
   "execution_count": 67,
   "metadata": {},
   "outputs": [],
   "source": [
    "# Initialize empty lists for storing EEG data, labels, and session tracking\n",
    "all_eeg_data = []\n",
    "all_labels = []\n",
    "all_sessions = []"
   ]
  },
  {
   "cell_type": "markdown",
   "metadata": {},
   "source": [
    "#### Process Each EEG File"
   ]
  },
  {
   "cell_type": "code",
   "execution_count": 68,
   "metadata": {},
   "outputs": [
    {
     "name": "stdout",
     "output_type": "stream",
     "text": [
      "Processing S001R01.edf...\n",
      "Extracting EDF parameters from c:\\Users\\angom\\East Tennessee State University\\Applied Data Science - AB - Documentos\\Courses\\Machine Learning\\Project\\EEG-Based Motor Intention Prediction\\S001R01.edf...\n",
      "EDF file detected\n",
      "Setting channel info structure...\n",
      "Creating raw.info structure...\n",
      "Reading 0 ... 9759  =      0.000 ...    60.994 secs...\n",
      "Used Annotations descriptions: ['T0']\n",
      "<Info | 8 non-empty values\n",
      " bads: []\n",
      " ch_names: Fc5., Fc3., Fc1., Fcz., Fc2., Fc4., Fc6., C5.., C3.., C1.., ...\n",
      " chs: 64 EEG\n",
      " custom_ref_applied: False\n",
      " highpass: 0.0 Hz\n",
      " lowpass: 80.0 Hz\n",
      " meas_date: 2009-08-12 16:15:00 UTC\n",
      " nchan: 64\n",
      " projs: []\n",
      " sfreq: 160.0 Hz\n",
      " subject_info: <subject_info | his_id: X, sex: 0, last_name: X>\n",
      ">\n",
      "Processing S001R02.edf...\n",
      "Extracting EDF parameters from c:\\Users\\angom\\East Tennessee State University\\Applied Data Science - AB - Documentos\\Courses\\Machine Learning\\Project\\EEG-Based Motor Intention Prediction\\S001R02.edf...\n",
      "EDF file detected\n",
      "Setting channel info structure...\n",
      "Creating raw.info structure...\n",
      "Reading 0 ... 9759  =      0.000 ...    60.994 secs...\n",
      "Used Annotations descriptions: ['T0']\n",
      "<Info | 8 non-empty values\n",
      " bads: []\n",
      " ch_names: Fc5., Fc3., Fc1., Fcz., Fc2., Fc4., Fc6., C5.., C3.., C1.., ...\n",
      " chs: 64 EEG\n",
      " custom_ref_applied: False\n",
      " highpass: 0.0 Hz\n",
      " lowpass: 80.0 Hz\n",
      " meas_date: 2009-08-12 16:15:00 UTC\n",
      " nchan: 64\n",
      " projs: []\n",
      " sfreq: 160.0 Hz\n",
      " subject_info: <subject_info | his_id: X, sex: 0, last_name: X>\n",
      ">\n",
      "Processing S001R03.edf...\n",
      "Extracting EDF parameters from c:\\Users\\angom\\East Tennessee State University\\Applied Data Science - AB - Documentos\\Courses\\Machine Learning\\Project\\EEG-Based Motor Intention Prediction\\S001R03.edf...\n",
      "EDF file detected\n",
      "Setting channel info structure...\n",
      "Creating raw.info structure...\n",
      "Reading 0 ... 19999  =      0.000 ...   124.994 secs...\n",
      "Used Annotations descriptions: ['T0', 'T1', 'T2']\n",
      "<Info | 8 non-empty values\n",
      " bads: []\n",
      " ch_names: Fc5., Fc3., Fc1., Fcz., Fc2., Fc4., Fc6., C5.., C3.., C1.., ...\n",
      " chs: 64 EEG\n",
      " custom_ref_applied: False\n",
      " highpass: 0.0 Hz\n",
      " lowpass: 80.0 Hz\n",
      " meas_date: 2009-08-12 16:15:00 UTC\n",
      " nchan: 64\n",
      " projs: []\n",
      " sfreq: 160.0 Hz\n",
      " subject_info: <subject_info | his_id: X, sex: 0, last_name: X>\n",
      ">\n",
      "Processing S001R04.edf...\n",
      "Extracting EDF parameters from c:\\Users\\angom\\East Tennessee State University\\Applied Data Science - AB - Documentos\\Courses\\Machine Learning\\Project\\EEG-Based Motor Intention Prediction\\S001R04.edf...\n",
      "EDF file detected\n",
      "Setting channel info structure...\n",
      "Creating raw.info structure...\n",
      "Reading 0 ... 19999  =      0.000 ...   124.994 secs...\n",
      "Used Annotations descriptions: ['T0', 'T1', 'T2']\n",
      "<Info | 8 non-empty values\n",
      " bads: []\n",
      " ch_names: Fc5., Fc3., Fc1., Fcz., Fc2., Fc4., Fc6., C5.., C3.., C1.., ...\n",
      " chs: 64 EEG\n",
      " custom_ref_applied: False\n",
      " highpass: 0.0 Hz\n",
      " lowpass: 80.0 Hz\n",
      " meas_date: 2009-08-12 16:15:00 UTC\n",
      " nchan: 64\n",
      " projs: []\n",
      " sfreq: 160.0 Hz\n",
      " subject_info: <subject_info | his_id: X, sex: 0, last_name: X>\n",
      ">\n",
      "Processing S001R05.edf...\n",
      "Extracting EDF parameters from c:\\Users\\angom\\East Tennessee State University\\Applied Data Science - AB - Documentos\\Courses\\Machine Learning\\Project\\EEG-Based Motor Intention Prediction\\S001R05.edf...\n",
      "EDF file detected\n",
      "Setting channel info structure...\n",
      "Creating raw.info structure...\n",
      "Reading 0 ... 19999  =      0.000 ...   124.994 secs...\n",
      "Used Annotations descriptions: ['T0', 'T1', 'T2']\n",
      "<Info | 8 non-empty values\n",
      " bads: []\n",
      " ch_names: Fc5., Fc3., Fc1., Fcz., Fc2., Fc4., Fc6., C5.., C3.., C1.., ...\n",
      " chs: 64 EEG\n",
      " custom_ref_applied: False\n",
      " highpass: 0.0 Hz\n",
      " lowpass: 80.0 Hz\n",
      " meas_date: 2009-08-12 16:15:00 UTC\n",
      " nchan: 64\n",
      " projs: []\n",
      " sfreq: 160.0 Hz\n",
      " subject_info: <subject_info | his_id: X, sex: 0, last_name: X>\n",
      ">\n",
      "Processing S001R06.edf...\n",
      "Extracting EDF parameters from c:\\Users\\angom\\East Tennessee State University\\Applied Data Science - AB - Documentos\\Courses\\Machine Learning\\Project\\EEG-Based Motor Intention Prediction\\S001R06.edf...\n",
      "EDF file detected\n",
      "Setting channel info structure...\n",
      "Creating raw.info structure...\n",
      "Reading 0 ... 19999  =      0.000 ...   124.994 secs...\n",
      "Used Annotations descriptions: ['T0', 'T1', 'T2']\n",
      "<Info | 8 non-empty values\n",
      " bads: []\n",
      " ch_names: Fc5., Fc3., Fc1., Fcz., Fc2., Fc4., Fc6., C5.., C3.., C1.., ...\n",
      " chs: 64 EEG\n",
      " custom_ref_applied: False\n",
      " highpass: 0.0 Hz\n",
      " lowpass: 80.0 Hz\n",
      " meas_date: 2009-08-12 16:15:00 UTC\n",
      " nchan: 64\n",
      " projs: []\n",
      " sfreq: 160.0 Hz\n",
      " subject_info: <subject_info | his_id: X, sex: 0, last_name: X>\n",
      ">\n",
      "Processing S001R07.edf...\n",
      "Extracting EDF parameters from c:\\Users\\angom\\East Tennessee State University\\Applied Data Science - AB - Documentos\\Courses\\Machine Learning\\Project\\EEG-Based Motor Intention Prediction\\S001R07.edf...\n",
      "EDF file detected\n",
      "Setting channel info structure...\n",
      "Creating raw.info structure...\n",
      "Reading 0 ... 19999  =      0.000 ...   124.994 secs...\n",
      "Used Annotations descriptions: ['T0', 'T1', 'T2']\n",
      "<Info | 8 non-empty values\n",
      " bads: []\n",
      " ch_names: Fc5., Fc3., Fc1., Fcz., Fc2., Fc4., Fc6., C5.., C3.., C1.., ...\n",
      " chs: 64 EEG\n",
      " custom_ref_applied: False\n",
      " highpass: 0.0 Hz\n",
      " lowpass: 80.0 Hz\n",
      " meas_date: 2009-08-12 16:15:00 UTC\n",
      " nchan: 64\n",
      " projs: []\n",
      " sfreq: 160.0 Hz\n",
      " subject_info: <subject_info | his_id: X, sex: 0, last_name: X>\n",
      ">\n",
      "Processing S001R08.edf...\n",
      "Extracting EDF parameters from c:\\Users\\angom\\East Tennessee State University\\Applied Data Science - AB - Documentos\\Courses\\Machine Learning\\Project\\EEG-Based Motor Intention Prediction\\S001R08.edf...\n",
      "EDF file detected\n",
      "Setting channel info structure...\n",
      "Creating raw.info structure...\n",
      "Reading 0 ... 19999  =      0.000 ...   124.994 secs...\n",
      "Used Annotations descriptions: ['T0', 'T1', 'T2']\n",
      "<Info | 8 non-empty values\n",
      " bads: []\n",
      " ch_names: Fc5., Fc3., Fc1., Fcz., Fc2., Fc4., Fc6., C5.., C3.., C1.., ...\n",
      " chs: 64 EEG\n",
      " custom_ref_applied: False\n",
      " highpass: 0.0 Hz\n",
      " lowpass: 80.0 Hz\n",
      " meas_date: 2009-08-12 16:15:00 UTC\n",
      " nchan: 64\n",
      " projs: []\n",
      " sfreq: 160.0 Hz\n",
      " subject_info: <subject_info | his_id: X, sex: 0, last_name: X>\n",
      ">\n",
      "Processing S001R09.edf...\n",
      "Extracting EDF parameters from c:\\Users\\angom\\East Tennessee State University\\Applied Data Science - AB - Documentos\\Courses\\Machine Learning\\Project\\EEG-Based Motor Intention Prediction\\S001R09.edf...\n",
      "EDF file detected\n",
      "Setting channel info structure...\n",
      "Creating raw.info structure...\n",
      "Reading 0 ... 19999  =      0.000 ...   124.994 secs...\n",
      "Used Annotations descriptions: ['T0', 'T1', 'T2']\n",
      "<Info | 8 non-empty values\n",
      " bads: []\n",
      " ch_names: Fc5., Fc3., Fc1., Fcz., Fc2., Fc4., Fc6., C5.., C3.., C1.., ...\n",
      " chs: 64 EEG\n",
      " custom_ref_applied: False\n",
      " highpass: 0.0 Hz\n",
      " lowpass: 80.0 Hz\n",
      " meas_date: 2009-08-12 16:15:00 UTC\n",
      " nchan: 64\n",
      " projs: []\n",
      " sfreq: 160.0 Hz\n",
      " subject_info: <subject_info | his_id: X, sex: 0, last_name: X>\n",
      ">\n",
      "Processing S001R10.edf...\n",
      "Extracting EDF parameters from c:\\Users\\angom\\East Tennessee State University\\Applied Data Science - AB - Documentos\\Courses\\Machine Learning\\Project\\EEG-Based Motor Intention Prediction\\S001R10.edf...\n",
      "EDF file detected\n",
      "Setting channel info structure...\n",
      "Creating raw.info structure...\n",
      "Reading 0 ... 19999  =      0.000 ...   124.994 secs...\n",
      "Used Annotations descriptions: ['T0', 'T1', 'T2']\n",
      "<Info | 8 non-empty values\n",
      " bads: []\n",
      " ch_names: Fc5., Fc3., Fc1., Fcz., Fc2., Fc4., Fc6., C5.., C3.., C1.., ...\n",
      " chs: 64 EEG\n",
      " custom_ref_applied: False\n",
      " highpass: 0.0 Hz\n",
      " lowpass: 80.0 Hz\n",
      " meas_date: 2009-08-12 16:15:00 UTC\n",
      " nchan: 64\n",
      " projs: []\n",
      " sfreq: 160.0 Hz\n",
      " subject_info: <subject_info | his_id: X, sex: 0, last_name: X>\n",
      ">\n",
      "Processing S001R11.edf...\n",
      "Extracting EDF parameters from c:\\Users\\angom\\East Tennessee State University\\Applied Data Science - AB - Documentos\\Courses\\Machine Learning\\Project\\EEG-Based Motor Intention Prediction\\S001R11.edf...\n",
      "EDF file detected\n",
      "Setting channel info structure...\n",
      "Creating raw.info structure...\n",
      "Reading 0 ... 19999  =      0.000 ...   124.994 secs...\n",
      "Used Annotations descriptions: ['T0', 'T1', 'T2']\n",
      "<Info | 8 non-empty values\n",
      " bads: []\n",
      " ch_names: Fc5., Fc3., Fc1., Fcz., Fc2., Fc4., Fc6., C5.., C3.., C1.., ...\n",
      " chs: 64 EEG\n",
      " custom_ref_applied: False\n",
      " highpass: 0.0 Hz\n",
      " lowpass: 80.0 Hz\n",
      " meas_date: 2009-08-12 16:15:00 UTC\n",
      " nchan: 64\n",
      " projs: []\n",
      " sfreq: 160.0 Hz\n",
      " subject_info: <subject_info | his_id: X, sex: 0, last_name: X>\n",
      ">\n",
      "Processing S001R12.edf...\n",
      "Extracting EDF parameters from c:\\Users\\angom\\East Tennessee State University\\Applied Data Science - AB - Documentos\\Courses\\Machine Learning\\Project\\EEG-Based Motor Intention Prediction\\S001R12.edf...\n",
      "EDF file detected\n",
      "Setting channel info structure...\n",
      "Creating raw.info structure...\n",
      "Reading 0 ... 19999  =      0.000 ...   124.994 secs...\n",
      "Used Annotations descriptions: ['T0', 'T1', 'T2']\n",
      "<Info | 8 non-empty values\n",
      " bads: []\n",
      " ch_names: Fc5., Fc3., Fc1., Fcz., Fc2., Fc4., Fc6., C5.., C3.., C1.., ...\n",
      " chs: 64 EEG\n",
      " custom_ref_applied: False\n",
      " highpass: 0.0 Hz\n",
      " lowpass: 80.0 Hz\n",
      " meas_date: 2009-08-12 16:15:00 UTC\n",
      " nchan: 64\n",
      " projs: []\n",
      " sfreq: 160.0 Hz\n",
      " subject_info: <subject_info | his_id: X, sex: 0, last_name: X>\n",
      ">\n",
      "Processing S001R13.edf...\n",
      "Extracting EDF parameters from c:\\Users\\angom\\East Tennessee State University\\Applied Data Science - AB - Documentos\\Courses\\Machine Learning\\Project\\EEG-Based Motor Intention Prediction\\S001R13.edf...\n",
      "EDF file detected\n",
      "Setting channel info structure...\n",
      "Creating raw.info structure...\n",
      "Reading 0 ... 19999  =      0.000 ...   124.994 secs...\n",
      "Used Annotations descriptions: ['T0', 'T1', 'T2']\n",
      "<Info | 8 non-empty values\n",
      " bads: []\n",
      " ch_names: Fc5., Fc3., Fc1., Fcz., Fc2., Fc4., Fc6., C5.., C3.., C1.., ...\n",
      " chs: 64 EEG\n",
      " custom_ref_applied: False\n",
      " highpass: 0.0 Hz\n",
      " lowpass: 80.0 Hz\n",
      " meas_date: 2009-08-12 16:15:00 UTC\n",
      " nchan: 64\n",
      " projs: []\n",
      " sfreq: 160.0 Hz\n",
      " subject_info: <subject_info | his_id: X, sex: 0, last_name: X>\n",
      ">\n",
      "Processing S001R14.edf...\n",
      "Extracting EDF parameters from c:\\Users\\angom\\East Tennessee State University\\Applied Data Science - AB - Documentos\\Courses\\Machine Learning\\Project\\EEG-Based Motor Intention Prediction\\S001R14.edf...\n",
      "EDF file detected\n",
      "Setting channel info structure...\n",
      "Creating raw.info structure...\n",
      "Reading 0 ... 19999  =      0.000 ...   124.994 secs...\n",
      "Used Annotations descriptions: ['T0', 'T1', 'T2']\n",
      "<Info | 8 non-empty values\n",
      " bads: []\n",
      " ch_names: Fc5., Fc3., Fc1., Fcz., Fc2., Fc4., Fc6., C5.., C3.., C1.., ...\n",
      " chs: 64 EEG\n",
      " custom_ref_applied: False\n",
      " highpass: 0.0 Hz\n",
      " lowpass: 80.0 Hz\n",
      " meas_date: 2009-08-12 16:15:00 UTC\n",
      " nchan: 64\n",
      " projs: []\n",
      " sfreq: 160.0 Hz\n",
      " subject_info: <subject_info | his_id: X, sex: 0, last_name: X>\n",
      ">\n"
     ]
    }
   ],
   "source": [
    "for edf_file in edf_files:\n",
    "    print(f\"Processing {edf_file}...\")\n",
    "\n",
    "    # Load EEG data from file\n",
    "    raw = mne.io.read_raw_edf(edf_file, preload=True)\n",
    "    events, event_dict = mne.events_from_annotations(raw)\n",
    "\n",
    "    # Print EEG metadata\n",
    "    print(raw.info)\n",
    "\n",
    "    # Plot EEG signals (first 10 channels, 5 seconds)\n",
    "    #raw.plot(duration=5, n_channels=10)\n",
    "\n",
    "    # Apply bandpass filter (1-40 Hz)\n",
    "    filtered_data = butter_bandpass_filter(raw.get_data(), lowcut=1, highcut=40, fs=raw.info['sfreq'])\n",
    "\n",
    "    # Store EEG and labels\n",
    "    all_eeg_data.append(filtered_data)\n",
    "    all_labels.append(events)\n",
    "    all_sessions.append(np.full((filtered_data.shape[1],), edf_file))  # Track session"
   ]
  },
  {
   "cell_type": "markdown",
   "metadata": {},
   "source": [
    "#### Merge All EEG Data Into One Dataset"
   ]
  },
  {
   "cell_type": "code",
   "execution_count": 69,
   "metadata": {},
   "outputs": [
    {
     "name": "stdout",
     "output_type": "stream",
     "text": [
      "Merged EEG Data Shape: (64, 259520)\n"
     ]
    }
   ],
   "source": [
    "# Concatenate EEG data from all sessions\n",
    "merged_eeg = np.hstack(all_eeg_data)  # Merge along time axis\n",
    "merged_sessions = np.concatenate(all_sessions)  # Merge session info\n",
    "\n",
    "# Print shape of merged EEG dataset\n",
    "print(f\"Merged EEG Data Shape: {merged_eeg.shape}\")  # (n_channels, total_time_samples)"
   ]
  },
  {
   "cell_type": "markdown",
   "metadata": {},
   "source": [
    "#### Convert to DataFrame & Assign Labels"
   ]
  },
  {
   "cell_type": "code",
   "execution_count": 70,
   "metadata": {},
   "outputs": [],
   "source": [
    "# Convert EEG data to DataFrame\n",
    "df = pd.DataFrame(merged_eeg.T, columns=raw.ch_names)  # Transpose so rows = time samples\n",
    "\n",
    "# Initialize movement labels (default = 0)\n",
    "df[\"Movement_Label\"] = 0\n",
    "\n",
    "# Assign correct movement labels from event data\n",
    "for i, event_list in enumerate(all_labels):\n",
    "    for event in event_list:\n",
    "        sample_idx, _, label = event\n",
    "        df.loc[sample_idx:, \"Movement_Label\"] = label  # Assign labels at event points\n",
    "\n",
    "# Add session info for tracking\n",
    "df[\"Session\"] = merged_sessions"
   ]
  },
  {
   "cell_type": "markdown",
   "metadata": {},
   "source": [
    "#### Visualize Merged EEG Data"
   ]
  },
  {
   "cell_type": "code",
   "execution_count": 71,
   "metadata": {},
   "outputs": [
    {
     "data": {
      "image/png": "[encoded data removed]",
      "text/plain": [
       "<Figure size 1000x500 with 1 Axes>"
      ]
     },
     "metadata": {},
     "output_type": "display_data"
    }
   ],
   "source": [
    "plt.figure(figsize=(10, 5))\n",
    "plt.plot(df.iloc[:1000, 0], label=\"Sample EEG Channel\")  # Plot first channel\n",
    "plt.xlabel(\"Time Points\")\n",
    "plt.ylabel(\"EEG Signal (µV)\")\n",
    "plt.title(\"Sample EEG Signal After Merging\")\n",
    "plt.legend()\n",
    "plt.show()"
   ]
  },
  {
   "cell_type": "markdown",
   "metadata": {},
   "source": [
    "#### Checking how many samples are labeled as T0, T1, and T2."
   ]
  },
  {
   "cell_type": "code",
   "execution_count": 72,
   "metadata": {},
   "outputs": [
    {
     "name": "stdout",
     "output_type": "stream",
     "text": [
      "Movement_Label\n",
      "3    244848\n",
      "1     10080\n",
      "2      4592\n",
      "Name: count, dtype: int64\n"
     ]
    }
   ],
   "source": [
    "print(df[\"Movement_Label\"].value_counts())"
   ]
  },
  {
   "cell_type": "markdown",
   "metadata": {},
   "source": [
    "T0 (Rest) \n",
    "\n",
    "T1 (Movement) \n",
    "\n",
    "T2 (Movement)"
   ]
  },
  {
   "cell_type": "markdown",
   "metadata": {},
   "source": [
    "#### Save Merged Data to CSV"
   ]
  },
  {
   "cell_type": "code",
   "execution_count": 73,
   "metadata": {},
   "outputs": [
    {
     "name": "stdout",
     "output_type": "stream",
     "text": [
      "Merged EEG data saved as merged_eeg_data.csv\n"
     ]
    }
   ],
   "source": [
    "# Save merged dataset as CSV\n",
    "df.to_csv(\"merged_eeg_data.csv\", index=False)\n",
    "\n",
    "print(\"Merged EEG data saved as merged_eeg_data.csv\")"
   ]
  },
  {
   "cell_type": "markdown",
   "metadata": {},
   "source": [
    "#### Feature extraction"
   ]
  },
  {
   "cell_type": "code",
   "execution_count": 74,
   "metadata": {},
   "outputs": [],
   "source": [
    "# Import necessary libraries\n",
    "import numpy as np\n",
    "import pandas as pd\n",
    "import scipy.stats as stats\n",
    "from scipy.signal import welch\n",
    "from scipy.fft import fft\n",
    "from mne.decoding import CSP  # Common Spatial Patterns\n"
   ]
  },
  {
   "cell_type": "markdown",
   "metadata": {},
   "source": [
    "***Load Preprocessed EEG Data***"
   ]
  },
  {
   "cell_type": "code",
   "execution_count": 75,
   "metadata": {},
   "outputs": [],
   "source": [
    "# Load the preprocessed EEG dataset\n",
    "df = pd.read_csv(\"merged_eeg_data.csv\")\n",
    "\n",
    "# Separate EEG signals (features) and movement labels (targets)\n",
    "X = df.iloc[:, :-2].values  # All EEG channels\n",
    "y = df[\"Movement_Label\"].values  # Movement labels\n",
    "channels = df.columns[:-2]  # EEG channel names"
   ]
  },
  {
   "cell_type": "markdown",
   "metadata": {},
   "source": [
    "***Compute Time-Domain Features***"
   ]
  },
  {
   "cell_type": "code",
   "execution_count": 76,
   "metadata": {},
   "outputs": [
    {
     "name": "stdout",
     "output_type": "stream",
     "text": [
      "Time-Domain Features:\n"
     ]
    },
    {
     "data": {
      "text/html": [
       "<div>\n",
       "<style scoped>\n",
       "    .dataframe tbody tr th:only-of-type {\n",
       "        vertical-align: middle;\n",
       "    }\n",
       "\n",
       "    .dataframe tbody tr th {\n",
       "        vertical-align: top;\n",
       "    }\n",
       "\n",
       "    .dataframe thead th {\n",
       "        text-align: right;\n",
       "    }\n",
       "</style>\n",
       "<table border=\"1\" class=\"dataframe\">\n",
       "  <thead>\n",
       "    <tr style=\"text-align: right;\">\n",
       "      <th></th>\n",
       "      <th>Mean</th>\n",
       "      <th>Variance</th>\n",
       "      <th>RMS</th>\n",
       "      <th>Hjorth_Activity</th>\n",
       "      <th>Hjorth_Mobility</th>\n",
       "      <th>Hjorth_Complexity</th>\n",
       "    </tr>\n",
       "  </thead>\n",
       "  <tbody>\n",
       "    <tr>\n",
       "      <th>Fc5.</th>\n",
       "      <td>1.797835e-09</td>\n",
       "      <td>1.392376e-09</td>\n",
       "      <td>0.000037</td>\n",
       "      <td>1.392376e-09</td>\n",
       "      <td>0.379161</td>\n",
       "      <td>0.904884</td>\n",
       "    </tr>\n",
       "    <tr>\n",
       "      <th>Fc3.</th>\n",
       "      <td>3.999856e-09</td>\n",
       "      <td>1.571847e-09</td>\n",
       "      <td>0.000040</td>\n",
       "      <td>1.571847e-09</td>\n",
       "      <td>0.374726</td>\n",
       "      <td>0.868747</td>\n",
       "    </tr>\n",
       "    <tr>\n",
       "      <th>Fc1.</th>\n",
       "      <td>5.282795e-09</td>\n",
       "      <td>1.664740e-09</td>\n",
       "      <td>0.000041</td>\n",
       "      <td>1.664740e-09</td>\n",
       "      <td>0.369925</td>\n",
       "      <td>0.863995</td>\n",
       "    </tr>\n",
       "    <tr>\n",
       "      <th>Fcz.</th>\n",
       "      <td>5.262436e-09</td>\n",
       "      <td>1.697423e-09</td>\n",
       "      <td>0.000041</td>\n",
       "      <td>1.697423e-09</td>\n",
       "      <td>0.370282</td>\n",
       "      <td>0.870795</td>\n",
       "    </tr>\n",
       "    <tr>\n",
       "      <th>Fc2.</th>\n",
       "      <td>5.365883e-09</td>\n",
       "      <td>1.581690e-09</td>\n",
       "      <td>0.000040</td>\n",
       "      <td>1.581690e-09</td>\n",
       "      <td>0.364133</td>\n",
       "      <td>0.863761</td>\n",
       "    </tr>\n",
       "    <tr>\n",
       "      <th>...</th>\n",
       "      <td>...</td>\n",
       "      <td>...</td>\n",
       "      <td>...</td>\n",
       "      <td>...</td>\n",
       "      <td>...</td>\n",
       "      <td>...</td>\n",
       "    </tr>\n",
       "    <tr>\n",
       "      <th>Po8.</th>\n",
       "      <td>2.675919e-09</td>\n",
       "      <td>1.547473e-09</td>\n",
       "      <td>0.000039</td>\n",
       "      <td>1.547473e-09</td>\n",
       "      <td>0.418583</td>\n",
       "      <td>0.871816</td>\n",
       "    </tr>\n",
       "    <tr>\n",
       "      <th>O1..</th>\n",
       "      <td>1.977031e-09</td>\n",
       "      <td>1.889173e-09</td>\n",
       "      <td>0.000043</td>\n",
       "      <td>1.889173e-09</td>\n",
       "      <td>0.415315</td>\n",
       "      <td>0.791015</td>\n",
       "    </tr>\n",
       "    <tr>\n",
       "      <th>Oz..</th>\n",
       "      <td>2.291164e-09</td>\n",
       "      <td>1.780555e-09</td>\n",
       "      <td>0.000042</td>\n",
       "      <td>1.780555e-09</td>\n",
       "      <td>0.425377</td>\n",
       "      <td>0.825722</td>\n",
       "    </tr>\n",
       "    <tr>\n",
       "      <th>O2..</th>\n",
       "      <td>2.318118e-10</td>\n",
       "      <td>1.911486e-09</td>\n",
       "      <td>0.000044</td>\n",
       "      <td>1.911486e-09</td>\n",
       "      <td>0.435735</td>\n",
       "      <td>0.840531</td>\n",
       "    </tr>\n",
       "    <tr>\n",
       "      <th>Iz..</th>\n",
       "      <td>1.312849e-09</td>\n",
       "      <td>1.612529e-09</td>\n",
       "      <td>0.000040</td>\n",
       "      <td>1.612529e-09</td>\n",
       "      <td>0.500529</td>\n",
       "      <td>0.909130</td>\n",
       "    </tr>\n",
       "  </tbody>\n",
       "</table>\n",
       "<p>64 rows × 6 columns</p>\n",
       "</div>"
      ],
      "text/plain": [
       "              Mean      Variance       RMS  Hjorth_Activity  Hjorth_Mobility  \\\n",
       "Fc5.  1.797835e-09  1.392376e-09  0.000037     1.392376e-09         0.379161   \n",
       "Fc3.  3.999856e-09  1.571847e-09  0.000040     1.571847e-09         0.374726   \n",
       "Fc1.  5.282795e-09  1.664740e-09  0.000041     1.664740e-09         0.369925   \n",
       "Fcz.  5.262436e-09  1.697423e-09  0.000041     1.697423e-09         0.370282   \n",
       "Fc2.  5.365883e-09  1.581690e-09  0.000040     1.581690e-09         0.364133   \n",
       "...            ...           ...       ...              ...              ...   \n",
       "Po8.  2.675919e-09  1.547473e-09  0.000039     1.547473e-09         0.418583   \n",
       "O1..  1.977031e-09  1.889173e-09  0.000043     1.889173e-09         0.415315   \n",
       "Oz..  2.291164e-09  1.780555e-09  0.000042     1.780555e-09         0.425377   \n",
       "O2..  2.318118e-10  1.911486e-09  0.000044     1.911486e-09         0.435735   \n",
       "Iz..  1.312849e-09  1.612529e-09  0.000040     1.612529e-09         0.500529   \n",
       "\n",
       "      Hjorth_Complexity  \n",
       "Fc5.           0.904884  \n",
       "Fc3.           0.868747  \n",
       "Fc1.           0.863995  \n",
       "Fcz.           0.870795  \n",
       "Fc2.           0.863761  \n",
       "...                 ...  \n",
       "Po8.           0.871816  \n",
       "O1..           0.791015  \n",
       "Oz..           0.825722  \n",
       "O2..           0.840531  \n",
       "Iz..           0.909130  \n",
       "\n",
       "[64 rows x 6 columns]"
      ]
     },
     "metadata": {},
     "output_type": "display_data"
    },
    {
     "name": "stdout",
     "output_type": "stream",
     "text": [
      "Time-domain features saved as time_domain_features.csv\n"
     ]
    }
   ],
   "source": [
    "def hjorth_parameters(eeg_signal):\n",
    "    \"\"\" Compute Hjorth parameters: Activity, Mobility, Complexity \"\"\"\n",
    "    first_derivative = np.diff(eeg_signal)\n",
    "    second_derivative = np.diff(first_derivative)\n",
    "\n",
    "    activity = np.var(eeg_signal)\n",
    "    mobility = np.sqrt(np.var(first_derivative) / activity)\n",
    "    complexity = np.sqrt(np.var(second_derivative) / np.var(first_derivative))\n",
    "\n",
    "    return activity, mobility, complexity\n",
    "\n",
    "# Compute time-domain features for each channel\n",
    "time_features = []\n",
    "\n",
    "for i in range(X.shape[1]):  # Loop over channels\n",
    "    channel_data = X[:, i]\n",
    "\n",
    "    mean_val = np.mean(channel_data)\n",
    "    variance_val = np.var(channel_data)\n",
    "    rms_val = np.sqrt(np.mean(channel_data**2))\n",
    "    hjorth_act, hjorth_mob, hjorth_comp = hjorth_parameters(channel_data)\n",
    "\n",
    "    time_features.append([mean_val, variance_val, rms_val, hjorth_act, hjorth_mob, hjorth_comp])\n",
    "\n",
    "# Convert to DataFrame\n",
    "time_features_df = pd.DataFrame(time_features, columns=[\"Mean\", \"Variance\", \"RMS\", \"Hjorth_Activity\", \"Hjorth_Mobility\", \"Hjorth_Complexity\"], index=channels)\n",
    "\n",
    "# Display the first few rows of the DataFrame\n",
    "print(\"Time-Domain Features:\")\n",
    "display(time_features_df)\n",
    "\n",
    "# Save it as CSV for later use\n",
    "time_features_df.to_csv(\"time_domain_features.csv\", index=True)\n",
    "print(\"Time-domain features saved as time_domain_features.csv\")\n"
   ]
  },
  {
   "cell_type": "markdown",
   "metadata": {},
   "source": [
    "***Compute Frequency-Domain Features***"
   ]
  },
  {
   "cell_type": "code",
   "execution_count": 77,
   "metadata": {},
   "outputs": [
    {
     "name": "stdout",
     "output_type": "stream",
     "text": [
      "Frequency-Domain Features:\n"
     ]
    },
    {
     "data": {
      "text/html": [
       "<div>\n",
       "<style scoped>\n",
       "    .dataframe tbody tr th:only-of-type {\n",
       "        vertical-align: middle;\n",
       "    }\n",
       "\n",
       "    .dataframe tbody tr th {\n",
       "        vertical-align: top;\n",
       "    }\n",
       "\n",
       "    .dataframe thead th {\n",
       "        text-align: right;\n",
       "    }\n",
       "</style>\n",
       "<table border=\"1\" class=\"dataframe\">\n",
       "  <thead>\n",
       "    <tr style=\"text-align: right;\">\n",
       "      <th></th>\n",
       "      <th>FFT_Mean</th>\n",
       "      <th>PSD_Mean</th>\n",
       "    </tr>\n",
       "  </thead>\n",
       "  <tbody>\n",
       "    <tr>\n",
       "      <th>Fc5.</th>\n",
       "      <td>0.009346</td>\n",
       "      <td>1.736607e-11</td>\n",
       "    </tr>\n",
       "    <tr>\n",
       "      <th>Fc3.</th>\n",
       "      <td>0.009873</td>\n",
       "      <td>1.957427e-11</td>\n",
       "    </tr>\n",
       "    <tr>\n",
       "      <th>Fc1.</th>\n",
       "      <td>0.010110</td>\n",
       "      <td>2.072260e-11</td>\n",
       "    </tr>\n",
       "    <tr>\n",
       "      <th>Fcz.</th>\n",
       "      <td>0.010212</td>\n",
       "      <td>2.112777e-11</td>\n",
       "    </tr>\n",
       "    <tr>\n",
       "      <th>Fc2.</th>\n",
       "      <td>0.009763</td>\n",
       "      <td>1.969295e-11</td>\n",
       "    </tr>\n",
       "    <tr>\n",
       "      <th>...</th>\n",
       "      <td>...</td>\n",
       "      <td>...</td>\n",
       "    </tr>\n",
       "    <tr>\n",
       "      <th>Po8.</th>\n",
       "      <td>0.010306</td>\n",
       "      <td>1.925636e-11</td>\n",
       "    </tr>\n",
       "    <tr>\n",
       "      <th>O1..</th>\n",
       "      <td>0.011219</td>\n",
       "      <td>2.354088e-11</td>\n",
       "    </tr>\n",
       "    <tr>\n",
       "      <th>Oz..</th>\n",
       "      <td>0.011027</td>\n",
       "      <td>2.217832e-11</td>\n",
       "    </tr>\n",
       "    <tr>\n",
       "      <th>O2..</th>\n",
       "      <td>0.011524</td>\n",
       "      <td>2.381326e-11</td>\n",
       "    </tr>\n",
       "    <tr>\n",
       "      <th>Iz..</th>\n",
       "      <td>0.011290</td>\n",
       "      <td>2.008127e-11</td>\n",
       "    </tr>\n",
       "  </tbody>\n",
       "</table>\n",
       "<p>64 rows × 2 columns</p>\n",
       "</div>"
      ],
      "text/plain": [
       "      FFT_Mean      PSD_Mean\n",
       "Fc5.  0.009346  1.736607e-11\n",
       "Fc3.  0.009873  1.957427e-11\n",
       "Fc1.  0.010110  2.072260e-11\n",
       "Fcz.  0.010212  2.112777e-11\n",
       "Fc2.  0.009763  1.969295e-11\n",
       "...        ...           ...\n",
       "Po8.  0.010306  1.925636e-11\n",
       "O1..  0.011219  2.354088e-11\n",
       "Oz..  0.011027  2.217832e-11\n",
       "O2..  0.011524  2.381326e-11\n",
       "Iz..  0.011290  2.008127e-11\n",
       "\n",
       "[64 rows x 2 columns]"
      ]
     },
     "metadata": {},
     "output_type": "display_data"
    },
    {
     "name": "stdout",
     "output_type": "stream",
     "text": [
      "Frequency-domain features saved as frequency_domain_features.csv\n"
     ]
    }
   ],
   "source": [
    "def compute_psd(signal, fs=160):\n",
    "    \"\"\" Compute Power Spectral Density (PSD) using Welch's method \"\"\"\n",
    "    freqs, psd_values = welch(signal, fs, nperseg=fs*2)\n",
    "    return np.mean(psd_values)  # Return mean PSD as feature\n",
    "\n",
    "# Compute FFT and PSD for each EEG channel\n",
    "freq_features = []\n",
    "\n",
    "for i in range(X.shape[1]):\n",
    "    channel_data = X[:, i]\n",
    "\n",
    "    # Compute FFT magnitude\n",
    "    fft_vals = np.abs(fft(channel_data))\n",
    "    fft_mean = np.mean(fft_vals)\n",
    "\n",
    "    # Compute PSD\n",
    "    psd_mean = compute_psd(channel_data)\n",
    "\n",
    "    freq_features.append([fft_mean, psd_mean])\n",
    "\n",
    "# Convert to DataFrame\n",
    "freq_features_df = pd.DataFrame(freq_features, columns=[\"FFT_Mean\", \"PSD_Mean\"], index=channels)\n",
    "\n",
    "# Display Frequency-Domain Features\n",
    "print(\"Frequency-Domain Features:\")\n",
    "display(freq_features_df)\n",
    "freq_features_df.to_csv(\"frequency_domain_features.csv\", index=True)\n",
    "print(\"Frequency-domain features saved as frequency_domain_features.csv\")\n"
   ]
  },
  {
   "cell_type": "markdown",
   "metadata": {},
   "source": [
    "***Compute Spatial Features (CSP)***"
   ]
  },
  {
   "cell_type": "code",
   "execution_count": 78,
   "metadata": {},
   "outputs": [
    {
     "name": "stdout",
     "output_type": "stream",
     "text": [
      "Computing rank from data with rank=None\n",
      "    Using tolerance 0.0007 (2.2e-16 eps * 64 dim * 4.9e+10  max singular value)\n",
      "    Estimated rank (data): 64\n",
      "    data: rank 64 computed from 64 data channels with 0 projectors\n",
      "Reducing data rank from 64 -> 64\n",
      "Estimating class=1 covariance using EMPIRICAL\n",
      "Done.\n",
      "Estimating class=2 covariance using EMPIRICAL\n",
      "Done.\n",
      "Estimating class=3 covariance using EMPIRICAL\n",
      "Done.\n",
      "Spatial Features (CSP):\n"
     ]
    },
    {
     "data": {
      "text/html": [
       "<div>\n",
       "<style scoped>\n",
       "    .dataframe tbody tr th:only-of-type {\n",
       "        vertical-align: middle;\n",
       "    }\n",
       "\n",
       "    .dataframe tbody tr th {\n",
       "        vertical-align: top;\n",
       "    }\n",
       "\n",
       "    .dataframe thead th {\n",
       "        text-align: right;\n",
       "    }\n",
       "</style>\n",
       "<table border=\"1\" class=\"dataframe\">\n",
       "  <thead>\n",
       "    <tr style=\"text-align: right;\">\n",
       "      <th></th>\n",
       "      <th>CSP_1</th>\n",
       "      <th>CSP_2</th>\n",
       "      <th>CSP_3</th>\n",
       "      <th>CSP_4</th>\n",
       "    </tr>\n",
       "  </thead>\n",
       "  <tbody>\n",
       "    <tr>\n",
       "      <th>0</th>\n",
       "      <td>1.410137</td>\n",
       "      <td>-0.012942</td>\n",
       "      <td>0.452165</td>\n",
       "      <td>-0.079736</td>\n",
       "    </tr>\n",
       "    <tr>\n",
       "      <th>1</th>\n",
       "      <td>-1.374448</td>\n",
       "      <td>-1.669766</td>\n",
       "      <td>-0.445234</td>\n",
       "      <td>-0.565924</td>\n",
       "    </tr>\n",
       "    <tr>\n",
       "      <th>2</th>\n",
       "      <td>-0.983941</td>\n",
       "      <td>-1.793387</td>\n",
       "      <td>-1.152006</td>\n",
       "      <td>0.013214</td>\n",
       "    </tr>\n",
       "    <tr>\n",
       "      <th>3</th>\n",
       "      <td>-1.556008</td>\n",
       "      <td>-0.862441</td>\n",
       "      <td>-0.931907</td>\n",
       "      <td>0.125074</td>\n",
       "    </tr>\n",
       "    <tr>\n",
       "      <th>4</th>\n",
       "      <td>0.234655</td>\n",
       "      <td>-0.312729</td>\n",
       "      <td>0.421353</td>\n",
       "      <td>0.769606</td>\n",
       "    </tr>\n",
       "    <tr>\n",
       "      <th>...</th>\n",
       "      <td>...</td>\n",
       "      <td>...</td>\n",
       "      <td>...</td>\n",
       "      <td>...</td>\n",
       "    </tr>\n",
       "    <tr>\n",
       "      <th>806</th>\n",
       "      <td>0.812219</td>\n",
       "      <td>-1.094242</td>\n",
       "      <td>-0.772911</td>\n",
       "      <td>0.424880</td>\n",
       "    </tr>\n",
       "    <tr>\n",
       "      <th>807</th>\n",
       "      <td>1.586878</td>\n",
       "      <td>0.016436</td>\n",
       "      <td>0.338809</td>\n",
       "      <td>0.291534</td>\n",
       "    </tr>\n",
       "    <tr>\n",
       "      <th>808</th>\n",
       "      <td>-0.259507</td>\n",
       "      <td>-0.700443</td>\n",
       "      <td>0.193675</td>\n",
       "      <td>-0.219454</td>\n",
       "    </tr>\n",
       "    <tr>\n",
       "      <th>809</th>\n",
       "      <td>-0.808187</td>\n",
       "      <td>-0.925661</td>\n",
       "      <td>0.006167</td>\n",
       "      <td>-0.006952</td>\n",
       "    </tr>\n",
       "    <tr>\n",
       "      <th>810</th>\n",
       "      <td>-0.122411</td>\n",
       "      <td>-1.380809</td>\n",
       "      <td>-0.649266</td>\n",
       "      <td>-1.958768</td>\n",
       "    </tr>\n",
       "  </tbody>\n",
       "</table>\n",
       "<p>811 rows × 4 columns</p>\n",
       "</div>"
      ],
      "text/plain": [
       "        CSP_1     CSP_2     CSP_3     CSP_4\n",
       "0    1.410137 -0.012942  0.452165 -0.079736\n",
       "1   -1.374448 -1.669766 -0.445234 -0.565924\n",
       "2   -0.983941 -1.793387 -1.152006  0.013214\n",
       "3   -1.556008 -0.862441 -0.931907  0.125074\n",
       "4    0.234655 -0.312729  0.421353  0.769606\n",
       "..        ...       ...       ...       ...\n",
       "806  0.812219 -1.094242 -0.772911  0.424880\n",
       "807  1.586878  0.016436  0.338809  0.291534\n",
       "808 -0.259507 -0.700443  0.193675 -0.219454\n",
       "809 -0.808187 -0.925661  0.006167 -0.006952\n",
       "810 -0.122411 -1.380809 -0.649266 -1.958768\n",
       "\n",
       "[811 rows x 4 columns]"
      ]
     },
     "metadata": {},
     "output_type": "display_data"
    },
    {
     "name": "stdout",
     "output_type": "stream",
     "text": [
      "CSP features saved as spatial_features_csp.csv\n"
     ]
    }
   ],
   "source": [
    "from mne.decoding import CSP\n",
    "\n",
    "# Define trial length (e.g., 2 seconds per trial)\n",
    "sfreq = 160  # Sampling frequency (Hz)\n",
    "trial_length = 2  # Seconds\n",
    "samples_per_trial = sfreq * trial_length  # Number of time points per trial\n",
    "\n",
    "# Compute number of trials available\n",
    "num_trials = X.shape[0] // samples_per_trial\n",
    "\n",
    "# Reshape EEG data into (trials, channels, time_samples)\n",
    "X_trials = X[:num_trials * samples_per_trial].reshape(num_trials, len(channels), samples_per_trial)\n",
    "\n",
    "# Reshape labels (assign label per trial)\n",
    "y_trials = y[:num_trials * samples_per_trial:samples_per_trial]\n",
    "\n",
    "# Ensure labels match the number of trials\n",
    "if X_trials.shape[0] != len(y_trials):\n",
    "    raise ValueError(\"Mismatch in number of trials and labels!\")\n",
    "\n",
    "# Apply CSP\n",
    "csp = CSP(n_components=4, reg=None, log=True, norm_trace=False)\n",
    "X_csp = csp.fit_transform(X_trials, y_trials)\n",
    "\n",
    "# Convert to DataFrame\n",
    "csp_df = pd.DataFrame(X_csp, columns=[f\"CSP_{i+1}\" for i in range(4)])\n",
    "\n",
    "# Display CSP features\n",
    "print(\"Spatial Features (CSP):\")\n",
    "display(csp_df)\n",
    "csp_df.to_csv(\"spatial_features_csp.csv\", index=True)\n",
    "print(\"CSP features saved as spatial_features_csp.csv\")"
   ]
  },
  {
   "cell_type": "markdown",
   "metadata": {},
   "source": [
    "#### Merging All Features into a Single Dataset for Model Training"
   ]
  },
  {
   "cell_type": "markdown",
   "metadata": {},
   "source": [
    "***Load All Extracted Feature Files***"
   ]
  },
  {
   "cell_type": "code",
   "execution_count": 79,
   "metadata": {},
   "outputs": [
    {
     "name": "stdout",
     "output_type": "stream",
     "text": [
      "Time Features Shape: (64, 6)\n",
      "Frequency Features Shape: (64, 2)\n",
      "CSP Features Shape: (811, 4)\n"
     ]
    }
   ],
   "source": [
    "import pandas as pd\n",
    "\n",
    "# Load extracted features\n",
    "time_features = pd.read_csv(\"time_domain_features.csv\", index_col=0)  # Time-domain features\n",
    "freq_features = pd.read_csv(\"frequency_domain_features.csv\", index_col=0)  # Frequency-domain features\n",
    "csp_features = pd.read_csv(\"spatial_features_csp.csv\", index_col=0)  # CSP features\n",
    "\n",
    "# Display shapes\n",
    "print(f\"Time Features Shape: {time_features.shape}\")\n",
    "print(f\"Frequency Features Shape: {freq_features.shape}\")\n",
    "print(f\"CSP Features Shape: {csp_features.shape}\")"
   ]
  },
  {
   "cell_type": "markdown",
   "metadata": {},
   "source": [
    "***Merge Features***"
   ]
  },
  {
   "cell_type": "code",
   "execution_count": 80,
   "metadata": {},
   "outputs": [
    {
     "name": "stdout",
     "output_type": "stream",
     "text": [
      "Final Features Shape: (811, 12)\n"
     ]
    }
   ],
   "source": [
    "# Merge time & frequency features (both have 64 channels)\n",
    "merged_static_features = pd.concat([time_features, freq_features], axis=1)\n",
    "\n",
    "# Repeat static features for each CSP trial to match dimensions\n",
    "merged_static_features_expanded = pd.concat([merged_static_features] * (csp_features.shape[0] // merged_static_features.shape[0]), ignore_index=True)\n",
    "\n",
    "# Merge with CSP features\n",
    "final_features = pd.concat([merged_static_features_expanded, csp_features], axis=1)\n",
    "\n",
    "# Display shape\n",
    "print(f\"Final Features Shape: {final_features.shape}\")"
   ]
  },
  {
   "cell_type": "markdown",
   "metadata": {},
   "source": [
    "***Adding Movement Labels***"
   ]
  },
  {
   "cell_type": "code",
   "execution_count": 81,
   "metadata": {},
   "outputs": [
    {
     "name": "stdout",
     "output_type": "stream",
     "text": [
      "           Mean      Variance       RMS  Hjorth_Activity  Hjorth_Mobility  \\\n",
      "0  1.797835e-09  1.392376e-09  0.000037     1.392376e-09         0.379161   \n",
      "1  3.999856e-09  1.571847e-09  0.000040     1.571847e-09         0.374726   \n",
      "2  5.282795e-09  1.664740e-09  0.000041     1.664740e-09         0.369925   \n",
      "3  5.262436e-09  1.697423e-09  0.000041     1.697423e-09         0.370282   \n",
      "4  5.365883e-09  1.581690e-09  0.000040     1.581690e-09         0.364133   \n",
      "\n",
      "   Hjorth_Complexity  FFT_Mean      PSD_Mean     CSP_1     CSP_2     CSP_3  \\\n",
      "0           0.904884  0.009346  1.736607e-11  1.410137 -0.012942  0.452165   \n",
      "1           0.868747  0.009873  1.957427e-11 -1.374448 -1.669766 -0.445234   \n",
      "2           0.863995  0.010110  2.072260e-11 -0.983941 -1.793387 -1.152006   \n",
      "3           0.870795  0.010212  2.112777e-11 -1.556008 -0.862441 -0.931907   \n",
      "4           0.863761  0.009763  1.969295e-11  0.234655 -0.312729  0.421353   \n",
      "\n",
      "      CSP_4  Movement_Label  \n",
      "0 -0.079736               1  \n",
      "1 -0.565924               1  \n",
      "2  0.013214               1  \n",
      "3  0.125074               3  \n",
      "4  0.769606               3  \n"
     ]
    }
   ],
   "source": [
    "# Load labels from the original EEG dataset\n",
    "df = pd.read_csv(\"merged_eeg_data.csv\")\n",
    "\n",
    "# Extract movement labels per trial\n",
    "sfreq = 160  # Sampling frequency\n",
    "trial_length = 2  # Seconds\n",
    "samples_per_trial = sfreq * trial_length\n",
    "\n",
    "# Extract labels (one per trial)\n",
    "num_trials = final_features.shape[0]\n",
    "movement_labels = df[\"Movement_Label\"].values[:num_trials * samples_per_trial:samples_per_trial]\n",
    "\n",
    "# Attach labels to final dataset\n",
    "final_features[\"Movement_Label\"] = movement_labels\n",
    "\n",
    "# Show preview\n",
    "print(final_features.head())"
   ]
  },
  {
   "cell_type": "markdown",
   "metadata": {},
   "source": [
    "***Saving Final Dataset***"
   ]
  },
  {
   "cell_type": "code",
   "execution_count": 82,
   "metadata": {},
   "outputs": [
    {
     "name": "stdout",
     "output_type": "stream",
     "text": [
      "Final dataset saved as final_features.csv\n"
     ]
    }
   ],
   "source": [
    "# Save the merged dataset for ML training\n",
    "final_features.to_csv(\"final_features.csv\", index=False)\n",
    "\n",
    "print(\"Final dataset saved as final_features.csv\")"
   ]
  },
  {
   "cell_type": "markdown",
   "metadata": {},
   "source": [
    "#### Feature scaling"
   ]
  },
  {
   "cell_type": "code",
   "execution_count": 83,
   "metadata": {},
   "outputs": [
    {
     "name": "stdout",
     "output_type": "stream",
     "text": [
      "Scaled Dataset Shape: (811, 13)\n",
      "Scaled dataset saved as scaled_final_features.csv\n"
     ]
    }
   ],
   "source": [
    "import pandas as pd\n",
    "from sklearn.preprocessing import StandardScaler, MinMaxScaler\n",
    "\n",
    "# Load final dataset\n",
    "df = pd.read_csv(\"final_features.csv\")\n",
    "\n",
    "# Separate features and labels\n",
    "X = df.drop(columns=[\"Movement_Label\"])  # Features\n",
    "y = df[\"Movement_Label\"]  # Labels\n",
    "\n",
    "# Applying Standard Scaling (Mean=0, Variance=1)\n",
    "scaler = StandardScaler()\n",
    "X_scaled = scaler.fit_transform(X)\n",
    "\n",
    "# Convert back to DataFrame\n",
    "scaled_df = pd.DataFrame(X_scaled, columns=X.columns)\n",
    "scaled_df[\"Movement_Label\"] = y  # Reattach labels\n",
    "\n",
    "# Display shape to verify\n",
    "print(f\"Scaled Dataset Shape: {scaled_df.shape}\")\n",
    "\n",
    "# Save scaled dataset for training\n",
    "scaled_df.to_csv(\"scaled_final_features.csv\", index=False)\n",
    "\n",
    "print(\"Scaled dataset saved as scaled_final_features.csv\")"
   ]
  },
  {
   "cell_type": "markdown",
   "metadata": {},
   "source": [
    "#### Class Distribution Check (Detecting Imbalance)"
   ]
  },
  {
   "cell_type": "markdown",
   "metadata": {},
   "source": [
    "Checking how many samples belong to each movement class (T0, T1, T2):"
   ]
  },
  {
   "cell_type": "code",
   "execution_count": 84,
   "metadata": {},
   "outputs": [
    {
     "name": "stdout",
     "output_type": "stream",
     "text": [
      "Class Distribution:\n",
      "Movement_Label\n",
      "3    764\n",
      "1     32\n",
      "2     15\n",
      "Name: count, dtype: int64\n"
     ]
    },
    {
     "data": {
      "image/png": "[encoded data removed]",
      "text/plain": [
       "<Figure size 600x400 with 1 Axes>"
      ]
     },
     "metadata": {},
     "output_type": "display_data"
    }
   ],
   "source": [
    "import pandas as pd\n",
    "\n",
    "# Load scaled dataset\n",
    "scaled_df = pd.read_csv(\"scaled_final_features.csv\")\n",
    "\n",
    "# Count occurrences of each movement label\n",
    "class_counts = scaled_df[\"Movement_Label\"].value_counts()\n",
    "\n",
    "# Display class distribution\n",
    "print(\"Class Distribution:\")\n",
    "print(class_counts)\n",
    "\n",
    "# Visualize class balance\n",
    "import matplotlib.pyplot as plt\n",
    "\n",
    "plt.figure(figsize=(6,4))\n",
    "class_counts.plot(kind=\"bar\", color=[\"blue\", \"orange\", \"green\"])\n",
    "plt.xlabel(\"Movement Label\")\n",
    "plt.ylabel(\"Count\")\n",
    "plt.title(\"Class Distribution in Dataset\")\n",
    "plt.xticks(rotation=0)\n",
    "plt.show()"
   ]
  },
  {
   "cell_type": "markdown",
   "metadata": {},
   "source": [
    "The dataset is imbalanced at this point. This could lead to biased models favoring the majority class (class 2).\n",
    "\n",
    "So, we will Consider handling this imbalance by using oversampling: SMOTE (Synthetic Minority Over-sampling Technique) to generate synthetic samples. Or Class Weights in model training to balance the effect of underrepresented classes."
   ]
  },
  {
   "cell_type": "markdown",
   "metadata": {},
   "source": [
    "#### Handling Class Imbalance with SMOTE (Synthetic Minority Over-sampling Technique)\n",
    "\n",
    "Used to balance the classes, and prevent models from being biased toward the majority class, which can happen when the dataset is highly imbalanced.\n",
    "\n",
    "Generates synthetic samples for underrepresented classes by interpolating between existing minority class instances."
   ]
  },
  {
   "cell_type": "markdown",
   "metadata": {},
   "source": [
    "We first need to double check if we have any missing values since SMOTE can fail if the dataset contains NaN (missing) values."
   ]
  },
  {
   "cell_type": "code",
   "execution_count": 85,
   "metadata": {},
   "outputs": [
    {
     "name": "stdout",
     "output_type": "stream",
     "text": [
      "Missing Values Detected:\n",
      "Mean                 43\n",
      "Variance             43\n",
      "RMS                  43\n",
      "Hjorth_Activity      43\n",
      "Hjorth_Mobility      43\n",
      "Hjorth_Complexity    43\n",
      "FFT_Mean             43\n",
      "PSD_Mean             43\n",
      "dtype: int64\n"
     ]
    }
   ],
   "source": [
    "import pandas as pd\n",
    "\n",
    "# Load the dataset\n",
    "df = pd.read_csv(\"scaled_final_features.csv\")\n",
    "\n",
    "# Count missing values per column\n",
    "missing_counts = df.isnull().sum()\n",
    "\n",
    "# Display only columns with missing values\n",
    "missing_counts = missing_counts[missing_counts > 0]\n",
    "\n",
    "if missing_counts.empty:\n",
    "    print(\"No missing values in the dataset!\")\n",
    "else:\n",
    "    print(\"Missing Values Detected:\")\n",
    "    print(missing_counts)"
   ]
  },
  {
   "cell_type": "code",
   "execution_count": 86,
   "metadata": {},
   "outputs": [
    {
     "name": "stdout",
     "output_type": "stream",
     "text": [
      "Cleaned dataset saved as cleaned_final_features.csv\n"
     ]
    }
   ],
   "source": [
    "from sklearn.impute import SimpleImputer\n",
    "import pandas as pd\n",
    "\n",
    "# Load the dataset\n",
    "df = pd.read_csv(\"scaled_final_features.csv\")\n",
    "\n",
    "# Impute missing values using mean\n",
    "imputer = SimpleImputer(strategy=\"mean\")\n",
    "df_imputed = pd.DataFrame(imputer.fit_transform(df), columns=df.columns)\n",
    "\n",
    "# Save cleaned dataset\n",
    "df_imputed.to_csv(\"cleaned_final_features.csv\", index=False)\n",
    "\n",
    "print(\"Cleaned dataset saved as cleaned_final_features.csv\")"
   ]
  },
  {
   "cell_type": "code",
   "execution_count": 87,
   "metadata": {},
   "outputs": [
    {
     "name": "stdout",
     "output_type": "stream",
     "text": [
      "Balanced dataset saved as balanced_final_features.csv\n"
     ]
    }
   ],
   "source": [
    "from imblearn.over_sampling import SMOTE\n",
    "import pandas as pd\n",
    "\n",
    "# Load the cleaned dataset (after handling missing values)\n",
    "df = pd.read_csv(\"cleaned_final_features.csv\")\n",
    "\n",
    "# Separate features and labels\n",
    "X = df.drop(columns=[\"Movement_Label\"])\n",
    "y = df[\"Movement_Label\"]\n",
    "\n",
    "# Apply SMOTE to balance the classes\n",
    "smote = SMOTE(sampling_strategy='auto', random_state=42)\n",
    "X_resampled, y_resampled = smote.fit_resample(X, y)\n",
    "\n",
    "# Convert back to DataFrame\n",
    "balanced_df = pd.DataFrame(X_resampled, columns=X.columns)\n",
    "balanced_df[\"Movement_Label\"] = y_resampled  # Add the balanced labels\n",
    "\n",
    "# Save the balanced dataset\n",
    "balanced_df.to_csv(\"balanced_final_features.csv\", index=False)\n",
    "\n",
    "print(\"Balanced dataset saved as balanced_final_features.csv\")"
   ]
  },
  {
   "cell_type": "markdown",
   "metadata": {},
   "source": [
    "***Checking the class distribution again to confirm that SMOTE worked.***"
   ]
  },
  {
   "cell_type": "code",
   "execution_count": 88,
   "metadata": {},
   "outputs": [
    {
     "name": "stdout",
     "output_type": "stream",
     "text": [
      "New Class Distribution:\n",
      "Movement_Label\n",
      "1.0    764\n",
      "3.0    764\n",
      "2.0    764\n",
      "Name: count, dtype: int64\n"
     ]
    }
   ],
   "source": [
    "print(\"New Class Distribution:\")\n",
    "print(balanced_df[\"Movement_Label\"].value_counts())"
   ]
  },
  {
   "cell_type": "code",
   "execution_count": 89,
   "metadata": {},
   "outputs": [
    {
     "data": {
      "image/png": "[encoded data removed]",
      "text/plain": [
       "<Figure size 600x400 with 1 Axes>"
      ]
     },
     "metadata": {},
     "output_type": "display_data"
    }
   ],
   "source": [
    "import pandas as pd\n",
    "import matplotlib.pyplot as plt\n",
    "\n",
    "# Load the balanced dataset\n",
    "balanced_df = pd.read_csv(\"balanced_final_features.csv\")\n",
    "\n",
    "# Plot the class distribution after SMOTE\n",
    "plt.figure(figsize=(6, 4))\n",
    "balanced_df[\"Movement_Label\"].value_counts().plot(kind=\"bar\", color=[\"blue\", \"orange\", \"green\"])\n",
    "plt.xlabel(\"Movement Label\")\n",
    "plt.ylabel(\"Count\")\n",
    "plt.title(\"Class Distribution After SMOTE\")\n",
    "plt.xticks(rotation=0)\n",
    "plt.show()"
   ]
  },
  {
   "cell_type": "markdown",
   "metadata": {},
   "source": [
    "##### Feature Importance Using Random Forest"
   ]
  },
  {
   "cell_type": "code",
   "execution_count": 90,
   "metadata": {},
   "outputs": [
    {
     "name": "stdout",
     "output_type": "stream",
     "text": [
      "Feature Importance Ranking:\n",
      "              Feature  Importance\n",
      "9               CSP_2    0.254497\n",
      "8               CSP_1    0.212613\n",
      "11              CSP_4    0.201421\n",
      "10              CSP_3    0.110333\n",
      "0                Mean    0.031731\n",
      "4     Hjorth_Mobility    0.029934\n",
      "7            PSD_Mean    0.029273\n",
      "6            FFT_Mean    0.029125\n",
      "5   Hjorth_Complexity    0.028022\n",
      "1            Variance    0.025911\n",
      "3     Hjorth_Activity    0.023851\n",
      "2                 RMS    0.023289\n"
     ]
    },
    {
     "data": {
      "image/png": "[encoded data removed]",
      "text/plain": [
       "<Figure size 1000x500 with 1 Axes>"
      ]
     },
     "metadata": {},
     "output_type": "display_data"
    }
   ],
   "source": [
    "from sklearn.ensemble import RandomForestClassifier\n",
    "from sklearn.model_selection import train_test_split\n",
    "import numpy as np\n",
    "\n",
    "# Separate features and labels\n",
    "X = scaled_df.drop(columns=[\"Movement_Label\"])  # Features\n",
    "y = scaled_df[\"Movement_Label\"]  # Labels\n",
    "\n",
    "# Split dataset into training and testing sets (80% train, 20% test)\n",
    "X_train, X_test, y_train, y_test = train_test_split(X, y, test_size=0.2, random_state=42, stratify=y)\n",
    "\n",
    "# Train a Random Forest model\n",
    "rf = RandomForestClassifier(n_estimators=100, random_state=42)\n",
    "rf.fit(X_train, y_train)\n",
    "\n",
    "# Get feature importance\n",
    "feature_importance = rf.feature_importances_\n",
    "\n",
    "# Convert to DataFrame for visualization\n",
    "importance_df = pd.DataFrame({\"Feature\": X.columns, \"Importance\": feature_importance})\n",
    "importance_df = importance_df.sort_values(by=\"Importance\", ascending=False)\n",
    "\n",
    "# Display feature importance\n",
    "print(\"Feature Importance Ranking:\")\n",
    "print(importance_df)\n",
    "\n",
    "# Visualize feature importance\n",
    "plt.figure(figsize=(10, 5))\n",
    "plt.barh(importance_df[\"Feature\"], importance_df[\"Importance\"], color=\"skyblue\")\n",
    "plt.xlabel(\"Importance\")\n",
    "plt.ylabel(\"Feature\")\n",
    "plt.title(\"Feature Importance (Random Forest)\")\n",
    "plt.gca().invert_yaxis()  # Highest importance at top\n",
    "plt.show()"
   ]
  },
  {
   "cell_type": "markdown",
   "metadata": {},
   "source": [
    "Features CSP_4, CSP_1, CSP_2, and CSP_3 contribute most to distinguishing movement labels.\n",
    "\n",
    "Hjorth Mobility is also relatively influential, indicating its significance in EEG signal variability.\n",
    "\n",
    "Other features have lower impact, but still contribute."
   ]
  },
  {
   "cell_type": "markdown",
   "metadata": {},
   "source": [
    "#### Working only for the Action Data (The subject actually made a movement)"
   ]
  },
  {
   "cell_type": "markdown",
   "metadata": {},
   "source": [
    "#### Splitting the data into Training & Testing sets "
   ]
  },
  {
   "cell_type": "code",
   "execution_count": 91,
   "metadata": {},
   "outputs": [
    {
     "name": "stdout",
     "output_type": "stream",
     "text": [
      "Data split into training and testing sets.\n",
      "Training set shape: (1833, 12)\n",
      "Testing set shape: (459, 12)\n"
     ]
    }
   ],
   "source": [
    "from sklearn.model_selection import train_test_split\n",
    "\n",
    "# Load the balanced dataset\n",
    "balanced_df = pd.read_csv(\"balanced_final_features.csv\")\n",
    "\n",
    "# Separate features and labels\n",
    "X = balanced_df.drop(columns=[\"Movement_Label\"])\n",
    "y = balanced_df[\"Movement_Label\"]\n",
    "\n",
    "# Split into 80% training and 20% testing\n",
    "X_train, X_test, y_train, y_test = train_test_split(X, y, test_size=0.2, random_state=42, stratify=y)\n",
    "\n",
    "# Save the split datasets\n",
    "X_train.to_csv(\"X_train.csv\", index=False)\n",
    "X_test.to_csv(\"X_test.csv\", index=False)\n",
    "y_train.to_csv(\"y_train.csv\", index=False)\n",
    "y_test.to_csv(\"y_test.csv\", index=False)\n",
    "\n",
    "print(\"Data split into training and testing sets.\")\n",
    "print(f\"Training set shape: {X_train.shape}\")\n",
    "print(f\"Testing set shape: {X_test.shape}\")"
   ]
  },
  {
   "cell_type": "markdown",
   "metadata": {},
   "source": [
    "Training a Machine Learning Model (1st try with Random Forest Classifier)"
   ]
  },
  {
   "cell_type": "code",
   "execution_count": 92,
   "metadata": {},
   "outputs": [
    {
     "name": "stdout",
     "output_type": "stream",
     "text": [
      "Training Accuracy: 1.0000\n",
      "Testing Accuracy: 0.9913\n",
      "\n",
      "Classification Report (Test Set):\n",
      "              precision    recall  f1-score   support\n",
      "\n",
      "         1.0       1.00      1.00      1.00       611\n",
      "         2.0       1.00      1.00      1.00       611\n",
      "         3.0       1.00      1.00      1.00       611\n",
      "\n",
      "    accuracy                           1.00      1833\n",
      "   macro avg       1.00      1.00      1.00      1833\n",
      "weighted avg       1.00      1.00      1.00      1833\n",
      "\n",
      "\n",
      "Classification Report (Test Set):\n",
      "              precision    recall  f1-score   support\n",
      "\n",
      "         1.0       0.99      0.99      0.99       153\n",
      "         2.0       0.99      1.00      1.00       153\n",
      "         3.0       0.99      0.99      0.99       153\n",
      "\n",
      "    accuracy                           0.99       459\n",
      "   macro avg       0.99      0.99      0.99       459\n",
      "weighted avg       0.99      0.99      0.99       459\n",
      "\n"
     ]
    },
    {
     "data": {
      "image/png": "[encoded data removed]",
      "text/plain": [
       "<Figure size 600x500 with 2 Axes>"
      ]
     },
     "metadata": {},
     "output_type": "display_data"
    }
   ],
   "source": [
    "# Import necessary libraries\n",
    "from sklearn.ensemble import RandomForestClassifier\n",
    "from sklearn.metrics import accuracy_score, classification_report, confusion_matrix\n",
    "import matplotlib.pyplot as plt\n",
    "import seaborn as sns\n",
    "\n",
    "# Initialize the Random Forest Classifier\n",
    "rf_model = RandomForestClassifier(n_estimators=100, random_state=42)\n",
    "\n",
    "# Train the model\n",
    "rf_model.fit(X_train, y_train)\n",
    "\n",
    "# Make predictions on training and testing sets\n",
    "y_train_pred = rf_model.predict(X_train)\n",
    "y_test_pred = rf_model.predict(X_test)\n",
    "\n",
    "# Evaluate the model on training and testing sets\n",
    "train_accuracy = accuracy_score(y_train, y_train_pred)\n",
    "test_accuracy = accuracy_score(y_test, y_test_pred)\n",
    "\n",
    "print(f\"Training Accuracy: {train_accuracy:.4f}\")\n",
    "print(f\"Testing Accuracy: {test_accuracy:.4f}\")\n",
    "\n",
    "# Classification report for test set\n",
    "print(\"\\nClassification Report (Test Set):\")\n",
    "print(classification_report(y_train, y_train_pred))\n",
    "\n",
    "# Classification report for test set\n",
    "print(\"\\nClassification Report (Test Set):\")\n",
    "print(classification_report(y_test, y_test_pred))\n",
    "\n",
    "# Confusion matrix for test set\n",
    "conf_matrix = confusion_matrix(y_test, y_test_pred)\n",
    "\n",
    "# Plot Confusion Matrix\n",
    "plt.figure(figsize=(6, 5))\n",
    "sns.heatmap(conf_matrix, annot=True, fmt='d', cmap='Blues', xticklabels=rf_model.classes_, yticklabels=rf_model.classes_)\n",
    "plt.xlabel(\"Predicted\")\n",
    "plt.ylabel(\"Actual\")\n",
    "plt.title(\"Confusion Matrix (Test Set)\")\n",
    "plt.show()\n"
   ]
  },
  {
   "cell_type": "code",
   "execution_count": 93,
   "metadata": {},
   "outputs": [
    {
     "name": "stderr",
     "output_type": "stream",
     "text": [
      "C:\\Users\\angom\\AppData\\Local\\Temp\\ipykernel_18244\\3555022966.py:3: FutureWarning: \n",
      "\n",
      "Passing `palette` without assigning `hue` is deprecated and will be removed in v0.14.0. Assign the `x` variable to `hue` and set `legend=False` for the same effect.\n",
      "\n",
      "  sns.barplot(x=[\"Training Accuracy\", \"Testing Accuracy\"], y=[train_accuracy, test_accuracy], palette=[\"green\", \"blue\"])\n"
     ]
    },
    {
     "data": {
      "image/png": "[encoded data removed]",
      "text/plain": [
       "<Figure size 600x400 with 1 Axes>"
      ]
     },
     "metadata": {},
     "output_type": "display_data"
    }
   ],
   "source": [
    "# Plot Training vs Testing Accuracy\n",
    "plt.figure(figsize=(6, 4))\n",
    "sns.barplot(x=[\"Training Accuracy\", \"Testing Accuracy\"], y=[train_accuracy, test_accuracy], palette=[\"green\", \"blue\"])\n",
    "plt.ylim(0, 1)\n",
    "plt.ylabel(\"Accuracy\")\n",
    "plt.title(\"Model Accuracy Comparison\")\n",
    "plt.show()"
   ]
  },
  {
   "cell_type": "code",
   "execution_count": 94,
   "metadata": {},
   "outputs": [
    {
     "data": {
      "image/png": "[encoded data removed]",
      "text/plain": [
       "<Figure size 800x600 with 1 Axes>"
      ]
     },
     "metadata": {},
     "output_type": "display_data"
    }
   ],
   "source": [
    "from sklearn.metrics import roc_curve, auc  # Import ROC functions\n",
    "\n",
    "# Plot ROC Curves for Multi-Class Classification\n",
    "plt.figure(figsize=(8, 6))\n",
    "for i in range(len(rf_model.classes_)):\n",
    "    fpr, tpr, _ = roc_curve(y_test == rf_model.classes_[i], rf_model.predict_proba(X_test)[:, i])\n",
    "    roc_auc = auc(fpr, tpr)\n",
    "    plt.plot(fpr, tpr, label=f\"Class {rf_model.classes_[i]} (AUC = {roc_auc:.2f})\")\n",
    "\n",
    "plt.plot([0, 1], [0, 1], 'k--', label=\"Random Chance\")\n",
    "plt.xlabel(\"False Positive Rate\")\n",
    "plt.ylabel(\"True Positive Rate\")\n",
    "plt.title(\"ROC Curves for Multi-Class Classification\")\n",
    "plt.legend()\n",
    "plt.show()"
   ]
  },
  {
   "cell_type": "markdown",
   "metadata": {},
   "source": [
    "#### Applying Probabilistic Common Spatial Patterns (P-CSP)"
   ]
  },
  {
   "cell_type": "code",
   "execution_count": 123,
   "metadata": {},
   "outputs": [
    {
     "name": "stdout",
     "output_type": "stream",
     "text": [
      "P-CSP Input Shape: (811, 64, 320) (Trials, Channels, Time Samples)\n",
      "P-CSP Training Complete.\n",
      "P-CSP features saved as p_csp_features.csv\n",
      "P-CSP Training Accuracy: 1.0000\n",
      "P-CSP Testing Accuracy: 0.9448\n",
      "\n",
      "Classification Report (P-CSP - Test Set):\n",
      "              precision    recall  f1-score   support\n",
      "\n",
      "           1       0.00      0.00      0.00         6\n",
      "           2       0.00      0.00      0.00         3\n",
      "           3       0.94      1.00      0.97       154\n",
      "\n",
      "    accuracy                           0.94       163\n",
      "   macro avg       0.31      0.33      0.32       163\n",
      "weighted avg       0.89      0.94      0.92       163\n",
      "\n"
     ]
    },
    {
     "name": "stderr",
     "output_type": "stream",
     "text": [
      "c:\\Users\\angom\\AppData\\Local\\Programs\\Python\\Python310\\lib\\site-packages\\sklearn\\metrics\\_classification.py:1531: UndefinedMetricWarning: Precision is ill-defined and being set to 0.0 in labels with no predicted samples. Use `zero_division` parameter to control this behavior.\n",
      "  _warn_prf(average, modifier, f\"{metric.capitalize()} is\", len(result))\n",
      "c:\\Users\\angom\\AppData\\Local\\Programs\\Python\\Python310\\lib\\site-packages\\sklearn\\metrics\\_classification.py:1531: UndefinedMetricWarning: Precision is ill-defined and being set to 0.0 in labels with no predicted samples. Use `zero_division` parameter to control this behavior.\n",
      "  _warn_prf(average, modifier, f\"{metric.capitalize()} is\", len(result))\n",
      "c:\\Users\\angom\\AppData\\Local\\Programs\\Python\\Python310\\lib\\site-packages\\sklearn\\metrics\\_classification.py:1531: UndefinedMetricWarning: Precision is ill-defined and being set to 0.0 in labels with no predicted samples. Use `zero_division` parameter to control this behavior.\n",
      "  _warn_prf(average, modifier, f\"{metric.capitalize()} is\", len(result))\n"
     ]
    }
   ],
   "source": [
    "# %% [markdown]\n",
    "# ### Applying Probabilistic Common Spatial Patterns (P-CSP)\n",
    "\n",
    "# %% [markdown]\n",
    "# #### Load Raw EEG Data from `merged_eeg_data.csv`\n",
    "\n",
    "# %%\n",
    "import numpy as np\n",
    "import pandas as pd\n",
    "from scipy.stats import multivariate_normal\n",
    "from sklearn.decomposition import FastICA\n",
    "from sklearn.model_selection import train_test_split\n",
    "from mne.decoding import CSP\n",
    "\n",
    "# Load the raw EEG dataset\n",
    "df = pd.read_csv(\"merged_eeg_data.csv\")\n",
    "\n",
    "# Extract EEG signals (features) and movement labels\n",
    "X = df.iloc[:, :-2].values  # EEG channel data\n",
    "y = df[\"Movement_Label\"].values  # Movement labels\n",
    "channels = df.columns[:-2]\n",
    "\n",
    "# Define parameters\n",
    "sfreq = 160  # Sampling frequency (Hz)\n",
    "trial_length = 2  # Seconds per trial\n",
    "samples_per_trial = sfreq * trial_length  # Total samples per trial\n",
    "\n",
    "# Compute number of trials\n",
    "num_trials = X.shape[0] // samples_per_trial\n",
    "\n",
    "# Reshape EEG data into (trials, channels, time_samples)\n",
    "X_trials = X[:num_trials * samples_per_trial].reshape(num_trials, len(channels), samples_per_trial)\n",
    "\n",
    "# Assign labels per trial (ensure correct slicing)\n",
    "y_trials = y[:num_trials * samples_per_trial:samples_per_trial]\n",
    "\n",
    "print(f\"P-CSP Input Shape: {X_trials.shape} (Trials, Channels, Time Samples)\")\n",
    "\n",
    "# %% [markdown]\n",
    "# #### Implement Probabilistic CSP (P-CSP)\n",
    "\n",
    "# %%\n",
    "class ProbabilisticCSP:\n",
    "    def __init__(self, n_components=4, reg_param=0.1, sparse=False):\n",
    "        self.n_components = n_components\n",
    "        self.reg_param = reg_param  # Regularization parameter (for TR-CSP)\n",
    "        self.sparse = sparse  # If True, apply L1 regularization\n",
    "        self.A = None  # Mixing matrix\n",
    "        self.Z = None  # Source signals\n",
    "\n",
    "    def fit(self, X, y):\n",
    "        \"\"\"\n",
    "        Fit the P-CSP model using variational Bayesian inference.\n",
    "        X: EEG data (trials, channels, time_samples)\n",
    "        y: Movement labels\n",
    "        \"\"\"\n",
    "        trials, channels, time_samples = X.shape\n",
    "\n",
    "        # Compute covariance matrices per class\n",
    "        cov_matrices = {}\n",
    "        for label in np.unique(y):\n",
    "            class_trials = X[y == label]  # Fix: Properly select class-specific trials\n",
    "            if class_trials.shape[0] > 1:  # Ensure enough samples exist\n",
    "                cov_matrices[label] = np.mean([np.cov(trial) for trial in class_trials], axis=0)\n",
    "\n",
    "        # Compute composite covariance matrix\n",
    "        if len(cov_matrices) > 0:\n",
    "            cov_avg = np.mean(list(cov_matrices.values()), axis=0)\n",
    "        else:\n",
    "            raise ValueError(\"Covariance matrices could not be computed. Check class distribution.\")\n",
    "\n",
    "        # Solve the generalized eigenvalue problem\n",
    "        eigvals, eigvecs = np.linalg.eigh(cov_avg)\n",
    "\n",
    "        # Select the top n_components spatial filters (ensure proper indexing)\n",
    "        self.A = eigvecs[:, -self.n_components:].copy()\n",
    "\n",
    "        # Compute projected sources (Z_k)\n",
    "        self.Z = np.array([np.dot(self.A.T, trial) for trial in X])\n",
    "\n",
    "        # Apply Bayesian regularization\n",
    "        if self.sparse:\n",
    "            self.Z = np.sign(self.Z) * np.maximum(0, np.abs(self.Z) - self.reg_param)\n",
    "\n",
    "        print(\"P-CSP Training Complete.\")\n",
    "\n",
    "    def transform(self, X):\n",
    "        \"\"\"\n",
    "        Project new EEG data using trained spatial filters.\n",
    "        \"\"\"\n",
    "        return np.array([np.dot(self.A.T, trial) for trial in X])\n",
    "\n",
    "# %% [markdown]\n",
    "# #### Train P-CSP on Raw EEG Trials\n",
    "\n",
    "# %%\n",
    "# Initialize and apply P-CSP\n",
    "p_csp = ProbabilisticCSP(n_components=4, reg_param=0.1, sparse=True)\n",
    "p_csp.fit(X_trials, y_trials)\n",
    "\n",
    "# Transform the EEG signals into spatial features\n",
    "X_p_csp = p_csp.transform(X_trials)\n",
    "\n",
    "# Ensure proper reshaping for DataFrame conversion\n",
    "num_features = X_p_csp.shape[1] * X_p_csp.shape[2]\n",
    "X_p_csp_reshaped = X_p_csp.reshape(X_p_csp.shape[0], num_features)\n",
    "\n",
    "# Convert to DataFrame\n",
    "p_csp_df = pd.DataFrame(X_p_csp_reshaped, \n",
    "                         columns=[f\"P-CSP_{i+1}\" for i in range(num_features)])\n",
    "\n",
    "# Save the new features\n",
    "p_csp_df[\"Movement_Label\"] = y_trials\n",
    "p_csp_df.to_csv(\"p_csp_features.csv\", index=False)\n",
    "\n",
    "print(\"P-CSP features saved as p_csp_features.csv\")\n",
    "\n",
    "# %% [markdown]\n",
    "# #### Train a Classifier Using P-CSP Features\n",
    "\n",
    "# %%\n",
    "# Load P-CSP transformed features\n",
    "df_p_csp = pd.read_csv(\"p_csp_features.csv\")\n",
    "\n",
    "# Separate features and labels\n",
    "X_p_csp = df_p_csp.drop(columns=[\"Movement_Label\"])\n",
    "y_p_csp = df_p_csp[\"Movement_Label\"]\n",
    "\n",
    "# Split into training and testing sets\n",
    "X_train, X_test, y_train, y_test = train_test_split(X_p_csp, y_p_csp, test_size=0.2, random_state=42, stratify=y_p_csp)\n",
    "\n",
    "# Train a classifier (Random Forest)\n",
    "from sklearn.ensemble import RandomForestClassifier\n",
    "from sklearn.metrics import accuracy_score, classification_report, confusion_matrix\n",
    "from sklearn.utils.class_weight import compute_class_weight\n",
    "\n",
    "# Compute balanced class weights\n",
    "unique_classes = np.unique(y_train)\n",
    "class_weights = compute_class_weight(\"balanced\", classes=unique_classes, y=y_train)\n",
    "weights_dict = {unique_classes[i]: class_weights[i] for i in range(len(unique_classes))}  # Fix: Corrected dictionary indexing\n",
    "\n",
    "# Train Random Forest with class weights\n",
    "rf_p_csp = RandomForestClassifier(n_estimators=100, random_state=42, class_weight=weights_dict)\n",
    "rf_p_csp.fit(X_train, y_train)\n",
    "\n",
    "# Predict\n",
    "y_pred_train = rf_p_csp.predict(X_train)\n",
    "y_pred_test = rf_p_csp.predict(X_test)\n",
    "\n",
    "# Evaluate\n",
    "train_acc = accuracy_score(y_train, y_pred_train)\n",
    "test_acc = accuracy_score(y_test, y_pred_test)\n",
    "\n",
    "print(f\"P-CSP Training Accuracy: {train_acc:.4f}\")\n",
    "print(f\"P-CSP Testing Accuracy: {test_acc:.4f}\")\n",
    "\n",
    "print(\"\\nClassification Report (P-CSP - Test Set):\")\n",
    "print(classification_report(y_test, y_pred_test))\n",
    "\n",
    "# %% [markdown]\n",
    "# ### P-CSP Successfully Applied!\n"
   ]
  },
  {
   "cell_type": "code",
   "execution_count": null,
   "metadata": {},
   "outputs": [],
   "source": []
  }
 ],
 "metadata": {
  "kernelspec": {
   "display_name": "Python 3",
   "language": "python",
   "name": "python3"
  },
  "language_info": {
   "codemirror_mode": {
    "name": "ipython",
    "version": 3
   },
   "file_extension": ".py",
   "mimetype": "text/x-python",
   "name": "python",
   "nbconvert_exporter": "python",
   "pygments_lexer": "ipython3",
   "version": "3.10.0"
  }
 },
 "nbformat": 4,
 "nbformat_minor": 2
}
